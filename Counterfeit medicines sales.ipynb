{
 "cells": [
  {
   "cell_type": "markdown",
   "metadata": {},
   "source": [
    "# Predictions for counterfeit medicine sales"
   ]
  },
  {
   "cell_type": "code",
   "execution_count": 1,
   "metadata": {},
   "outputs": [],
   "source": [
    "import warnings\n",
    "warnings.filterwarnings('ignore')\n",
    "import pandas as pd\n",
    "import numpy as np"
   ]
  },
  {
   "cell_type": "code",
   "execution_count": 2,
   "metadata": {},
   "outputs": [],
   "source": [
    "#Read the file\n",
    "\n",
    "datafile_train=\"/Users/Namdeo/Downloads/counterfeit_train.csv\"\n",
    "datafile_test=\"/Users/Namdeo/Downloads/counterfeit_test.csv\"\n",
    "bd_train=pd.read_csv(datafile_train)\n",
    "bd_test=pd.read_csv(datafile_test)"
   ]
  },
  {
   "cell_type": "code",
   "execution_count": 3,
   "metadata": {},
   "outputs": [
    {
     "data": {
      "text/html": [
       "<div>\n",
       "<style scoped>\n",
       "    .dataframe tbody tr th:only-of-type {\n",
       "        vertical-align: middle;\n",
       "    }\n",
       "\n",
       "    .dataframe tbody tr th {\n",
       "        vertical-align: top;\n",
       "    }\n",
       "\n",
       "    .dataframe thead th {\n",
       "        text-align: right;\n",
       "    }\n",
       "</style>\n",
       "<table border=\"1\" class=\"dataframe\">\n",
       "  <thead>\n",
       "    <tr style=\"text-align: right;\">\n",
       "      <th></th>\n",
       "      <th>Medicine_ID</th>\n",
       "      <th>Counterfeit_Weight</th>\n",
       "      <th>DistArea_ID</th>\n",
       "      <th>Active_Since</th>\n",
       "      <th>Medicine_MRP</th>\n",
       "      <th>Medicine_Type</th>\n",
       "      <th>SidEffect_Level</th>\n",
       "      <th>Availability_rating</th>\n",
       "      <th>Area_Type</th>\n",
       "      <th>Area_City_Type</th>\n",
       "      <th>Area_dist_level</th>\n",
       "      <th>Counterfeit_Sales</th>\n",
       "    </tr>\n",
       "  </thead>\n",
       "  <tbody>\n",
       "    <tr>\n",
       "      <td>0</td>\n",
       "      <td>RRA15</td>\n",
       "      <td>13.100</td>\n",
       "      <td>Area046</td>\n",
       "      <td>1995</td>\n",
       "      <td>160.2366</td>\n",
       "      <td>Antimalarial</td>\n",
       "      <td>critical</td>\n",
       "      <td>0.070422</td>\n",
       "      <td>DownTown</td>\n",
       "      <td>Tier 1</td>\n",
       "      <td>Small</td>\n",
       "      <td>1775.5026</td>\n",
       "    </tr>\n",
       "    <tr>\n",
       "      <td>1</td>\n",
       "      <td>YVV26</td>\n",
       "      <td>NaN</td>\n",
       "      <td>Area027</td>\n",
       "      <td>1983</td>\n",
       "      <td>110.4384</td>\n",
       "      <td>Mstablizers</td>\n",
       "      <td>mild</td>\n",
       "      <td>0.013000</td>\n",
       "      <td>CityLimits</td>\n",
       "      <td>Tier 3</td>\n",
       "      <td>Medium</td>\n",
       "      <td>3069.1520</td>\n",
       "    </tr>\n",
       "    <tr>\n",
       "      <td>2</td>\n",
       "      <td>LJC15</td>\n",
       "      <td>9.025</td>\n",
       "      <td>Area046</td>\n",
       "      <td>1995</td>\n",
       "      <td>259.4092</td>\n",
       "      <td>Cardiac</td>\n",
       "      <td>mild</td>\n",
       "      <td>0.060783</td>\n",
       "      <td>DownTown</td>\n",
       "      <td>Tier 1</td>\n",
       "      <td>Small</td>\n",
       "      <td>2603.0920</td>\n",
       "    </tr>\n",
       "    <tr>\n",
       "      <td>3</td>\n",
       "      <td>GWC40</td>\n",
       "      <td>11.800</td>\n",
       "      <td>Area046</td>\n",
       "      <td>1995</td>\n",
       "      <td>99.9830</td>\n",
       "      <td>OralContraceptives</td>\n",
       "      <td>mild</td>\n",
       "      <td>0.065555</td>\n",
       "      <td>DownTown</td>\n",
       "      <td>Tier 1</td>\n",
       "      <td>Small</td>\n",
       "      <td>1101.7130</td>\n",
       "    </tr>\n",
       "    <tr>\n",
       "      <td>4</td>\n",
       "      <td>QMN13</td>\n",
       "      <td>NaN</td>\n",
       "      <td>Area019</td>\n",
       "      <td>1983</td>\n",
       "      <td>56.4402</td>\n",
       "      <td>Hreplacements</td>\n",
       "      <td>critical</td>\n",
       "      <td>0.248859</td>\n",
       "      <td>MidTownResidential</td>\n",
       "      <td>Tier 1</td>\n",
       "      <td>Small</td>\n",
       "      <td>158.9402</td>\n",
       "    </tr>\n",
       "  </tbody>\n",
       "</table>\n",
       "</div>"
      ],
      "text/plain": [
       "  Medicine_ID  Counterfeit_Weight DistArea_ID  Active_Since  Medicine_MRP  \\\n",
       "0       RRA15              13.100     Area046          1995      160.2366   \n",
       "1       YVV26                 NaN     Area027          1983      110.4384   \n",
       "2       LJC15               9.025     Area046          1995      259.4092   \n",
       "3       GWC40              11.800     Area046          1995       99.9830   \n",
       "4       QMN13                 NaN     Area019          1983       56.4402   \n",
       "\n",
       "        Medicine_Type SidEffect_Level  Availability_rating  \\\n",
       "0        Antimalarial        critical             0.070422   \n",
       "1         Mstablizers            mild             0.013000   \n",
       "2             Cardiac            mild             0.060783   \n",
       "3  OralContraceptives            mild             0.065555   \n",
       "4       Hreplacements        critical             0.248859   \n",
       "\n",
       "            Area_Type Area_City_Type Area_dist_level  Counterfeit_Sales  \n",
       "0            DownTown         Tier 1           Small          1775.5026  \n",
       "1          CityLimits         Tier 3          Medium          3069.1520  \n",
       "2            DownTown         Tier 1           Small          2603.0920  \n",
       "3            DownTown         Tier 1           Small          1101.7130  \n",
       "4  MidTownResidential         Tier 1           Small           158.9402  "
      ]
     },
     "execution_count": 3,
     "metadata": {},
     "output_type": "execute_result"
    }
   ],
   "source": [
    "bd_train.head()"
   ]
  },
  {
   "cell_type": "code",
   "execution_count": 4,
   "metadata": {},
   "outputs": [
    {
     "data": {
      "text/plain": [
       "(6818, 12)"
      ]
     },
     "execution_count": 4,
     "metadata": {},
     "output_type": "execute_result"
    }
   ],
   "source": [
    "bd_train.shape"
   ]
  },
  {
   "cell_type": "code",
   "execution_count": 5,
   "metadata": {},
   "outputs": [
    {
     "data": {
      "text/plain": [
       "Medicine_ID             object\n",
       "Counterfeit_Weight     float64\n",
       "DistArea_ID             object\n",
       "Active_Since             int64\n",
       "Medicine_MRP           float64\n",
       "Medicine_Type           object\n",
       "SidEffect_Level         object\n",
       "Availability_rating    float64\n",
       "Area_Type               object\n",
       "Area_City_Type          object\n",
       "Area_dist_level         object\n",
       "Counterfeit_Sales      float64\n",
       "dtype: object"
      ]
     },
     "execution_count": 5,
     "metadata": {},
     "output_type": "execute_result"
    }
   ],
   "source": [
    "bd_train.dtypes"
   ]
  },
  {
   "cell_type": "code",
   "execution_count": 6,
   "metadata": {},
   "outputs": [
    {
     "data": {
      "text/html": [
       "<div>\n",
       "<style scoped>\n",
       "    .dataframe tbody tr th:only-of-type {\n",
       "        vertical-align: middle;\n",
       "    }\n",
       "\n",
       "    .dataframe tbody tr th {\n",
       "        vertical-align: top;\n",
       "    }\n",
       "\n",
       "    .dataframe thead th {\n",
       "        text-align: right;\n",
       "    }\n",
       "</style>\n",
       "<table border=\"1\" class=\"dataframe\">\n",
       "  <thead>\n",
       "    <tr style=\"text-align: right;\">\n",
       "      <th></th>\n",
       "      <th>Counterfeit_Weight</th>\n",
       "      <th>Active_Since</th>\n",
       "      <th>Medicine_MRP</th>\n",
       "      <th>Availability_rating</th>\n",
       "      <th>Counterfeit_Sales</th>\n",
       "    </tr>\n",
       "  </thead>\n",
       "  <tbody>\n",
       "    <tr>\n",
       "      <td>count</td>\n",
       "      <td>5652.000000</td>\n",
       "      <td>6818.000000</td>\n",
       "      <td>6818.000000</td>\n",
       "      <td>6818.000000</td>\n",
       "      <td>6818.000000</td>\n",
       "    </tr>\n",
       "    <tr>\n",
       "      <td>mean</td>\n",
       "      <td>14.115057</td>\n",
       "      <td>1995.836316</td>\n",
       "      <td>151.401518</td>\n",
       "      <td>0.079174</td>\n",
       "      <td>2280.583480</td>\n",
       "    </tr>\n",
       "    <tr>\n",
       "      <td>std</td>\n",
       "      <td>4.649668</td>\n",
       "      <td>8.368979</td>\n",
       "      <td>62.203961</td>\n",
       "      <td>0.051481</td>\n",
       "      <td>1693.354404</td>\n",
       "    </tr>\n",
       "    <tr>\n",
       "      <td>min</td>\n",
       "      <td>5.855000</td>\n",
       "      <td>1983.000000</td>\n",
       "      <td>41.790000</td>\n",
       "      <td>0.013000</td>\n",
       "      <td>146.290000</td>\n",
       "    </tr>\n",
       "    <tr>\n",
       "      <td>25%</td>\n",
       "      <td>9.995000</td>\n",
       "      <td>1985.000000</td>\n",
       "      <td>104.509400</td>\n",
       "      <td>0.040058</td>\n",
       "      <td>933.265600</td>\n",
       "    </tr>\n",
       "    <tr>\n",
       "      <td>50%</td>\n",
       "      <td>13.800000</td>\n",
       "      <td>1997.000000</td>\n",
       "      <td>153.195700</td>\n",
       "      <td>0.066955</td>\n",
       "      <td>1902.670400</td>\n",
       "    </tr>\n",
       "    <tr>\n",
       "      <td>75%</td>\n",
       "      <td>18.050000</td>\n",
       "      <td>2002.000000</td>\n",
       "      <td>196.148350</td>\n",
       "      <td>0.107697</td>\n",
       "      <td>3207.638400</td>\n",
       "    </tr>\n",
       "    <tr>\n",
       "      <td>max</td>\n",
       "      <td>22.650000</td>\n",
       "      <td>2007.000000</td>\n",
       "      <td>277.188400</td>\n",
       "      <td>0.341391</td>\n",
       "      <td>13199.964800</td>\n",
       "    </tr>\n",
       "  </tbody>\n",
       "</table>\n",
       "</div>"
      ],
      "text/plain": [
       "       Counterfeit_Weight  Active_Since  Medicine_MRP  Availability_rating  \\\n",
       "count         5652.000000   6818.000000   6818.000000          6818.000000   \n",
       "mean            14.115057   1995.836316    151.401518             0.079174   \n",
       "std              4.649668      8.368979     62.203961             0.051481   \n",
       "min              5.855000   1983.000000     41.790000             0.013000   \n",
       "25%              9.995000   1985.000000    104.509400             0.040058   \n",
       "50%             13.800000   1997.000000    153.195700             0.066955   \n",
       "75%             18.050000   2002.000000    196.148350             0.107697   \n",
       "max             22.650000   2007.000000    277.188400             0.341391   \n",
       "\n",
       "       Counterfeit_Sales  \n",
       "count        6818.000000  \n",
       "mean         2280.583480  \n",
       "std          1693.354404  \n",
       "min           146.290000  \n",
       "25%           933.265600  \n",
       "50%          1902.670400  \n",
       "75%          3207.638400  \n",
       "max         13199.964800  "
      ]
     },
     "execution_count": 6,
     "metadata": {},
     "output_type": "execute_result"
    }
   ],
   "source": [
    "bd_train.describe()"
   ]
  },
  {
   "cell_type": "code",
   "execution_count": 7,
   "metadata": {},
   "outputs": [],
   "source": [
    "#Deleting column with more unique values\n",
    "\n",
    "for col in [ 'Medicine_ID']:\n",
    "    bd_train.drop(col,1,inplace=True)\n",
    "    bd_test.drop(col,1,inplace=True)"
   ]
  },
  {
   "cell_type": "code",
   "execution_count": 8,
   "metadata": {},
   "outputs": [],
   "source": [
    "#Creating dummies for character columns\n",
    "\n",
    "for col in ['Medicine_Type','SidEffect_Level','Area_Type','Area_City_Type','Area_dist_level',\"DistArea_ID\"]:  \n",
    "    temp=pd.get_dummies(bd_train[col],prefix=col,drop_first=True)\n",
    "    bd_train=pd.concat([temp,bd_train],1)\n",
    "    bd_train.drop([col],1,inplace=True)\n",
    "    \n",
    "    temp=pd.get_dummies(bd_test[col],prefix=col,drop_first=True)\n",
    "    bd_test=pd.concat([temp,bd_test],1)\n",
    "    bd_test.drop([col],1,inplace=True)"
   ]
  },
  {
   "cell_type": "code",
   "execution_count": 9,
   "metadata": {},
   "outputs": [
    {
     "data": {
      "text/plain": [
       "DistArea_ID_Area013                    0\n",
       "DistArea_ID_Area017                    0\n",
       "DistArea_ID_Area018                    0\n",
       "DistArea_ID_Area019                    0\n",
       "DistArea_ID_Area027                    0\n",
       "DistArea_ID_Area035                    0\n",
       "DistArea_ID_Area045                    0\n",
       "DistArea_ID_Area046                    0\n",
       "DistArea_ID_Area049                    0\n",
       "Area_dist_level_Medium                 0\n",
       "Area_dist_level_Small                  0\n",
       "Area_dist_level_Unknown                0\n",
       "Area_City_Type_Tier 2                  0\n",
       "Area_City_Type_Tier 3                  0\n",
       "Area_Type_DownTown                     0\n",
       "Area_Type_Industrial                   0\n",
       "Area_Type_MidTownResidential           0\n",
       "SidEffect_Level_mild                   0\n",
       "Medicine_Type_Antacids                 0\n",
       "Medicine_Type_Antibiotics              0\n",
       "Medicine_Type_Antifungal               0\n",
       "Medicine_Type_Antimalarial             0\n",
       "Medicine_Type_Antipyretics             0\n",
       "Medicine_Type_Antiseptics              0\n",
       "Medicine_Type_Antiviral                0\n",
       "Medicine_Type_Cardiac                  0\n",
       "Medicine_Type_Hreplacements            0\n",
       "Medicine_Type_Mstablizers              0\n",
       "Medicine_Type_MuscleRelaxants          0\n",
       "Medicine_Type_OralContraceptives       0\n",
       "Medicine_Type_Statins                  0\n",
       "Medicine_Type_Stimulants               0\n",
       "Medicine_Type_Tranquilizers            0\n",
       "Counterfeit_Weight                  1166\n",
       "Active_Since                           0\n",
       "Medicine_MRP                           0\n",
       "Availability_rating                    0\n",
       "Counterfeit_Sales                      0\n",
       "dtype: int64"
      ]
     },
     "execution_count": 9,
     "metadata": {},
     "output_type": "execute_result"
    }
   ],
   "source": [
    "#Cheking null values\n",
    "\n",
    "bd_train.isnull().sum()"
   ]
  },
  {
   "cell_type": "code",
   "execution_count": 10,
   "metadata": {},
   "outputs": [],
   "source": [
    "#Imputing mean in place of null values\n",
    "\n",
    "missing_col = ['Counterfeit_Weight']\n",
    "\n",
    "for i in missing_col:\n",
    "    bd_train.loc[bd_train.loc[:,i].isnull(),i]=bd_train.loc[:,i].mean()"
   ]
  },
  {
   "cell_type": "code",
   "execution_count": 11,
   "metadata": {},
   "outputs": [],
   "source": [
    "missing_col = ['Counterfeit_Weight']\n",
    "\n",
    "for i in missing_col:\n",
    "    bd_test.loc[bd_test.loc[:,i].isnull(),i]=bd_test.loc[:,i].mean()"
   ]
  },
  {
   "cell_type": "markdown",
   "metadata": {},
   "source": [
    "# Preparing data to fit the model"
   ]
  },
  {
   "cell_type": "code",
   "execution_count": 12,
   "metadata": {},
   "outputs": [],
   "source": [
    "target='Counterfeit_Sales'"
   ]
  },
  {
   "cell_type": "code",
   "execution_count": 13,
   "metadata": {},
   "outputs": [],
   "source": [
    "x_train=bd_train.drop(target,1)\n",
    "y_train=bd_train[target]"
   ]
  },
  {
   "cell_type": "markdown",
   "metadata": {},
   "source": [
    "# Fitting the model"
   ]
  },
  {
   "cell_type": "code",
   "execution_count": 14,
   "metadata": {},
   "outputs": [],
   "source": [
    "from sklearn.ensemble import RandomForestRegressor\n",
    "from sklearn.model_selection import RandomizedSearchCV"
   ]
  },
  {
   "cell_type": "code",
   "execution_count": 15,
   "metadata": {},
   "outputs": [],
   "source": [
    "def report(results, n_top=3):\n",
    "    for i in range(1, n_top + 1):\n",
    "        candidates = np.flatnonzero(results['rank_test_score'] == i)\n",
    "        for candidate in candidates:\n",
    "            print(\"Model with rank: {0}\".format(i))\n",
    "            print(\"Mean validation score: {0:.5f} (std: {1:.5f})\".format(\n",
    "                  results['mean_test_score'][candidate],\n",
    "                  results['std_test_score'][candidate]))\n",
    "            print(\"Parameters: {0}\".format(results['params'][candidate]))\n",
    "            print(\"\")"
   ]
  },
  {
   "cell_type": "code",
   "execution_count": 16,
   "metadata": {},
   "outputs": [],
   "source": [
    "param_dist = {\"n_estimators\":[50,100,200],\n",
    "              \"max_features\": [2,4,5,6,8],\n",
    "              \"bootstrap\": [True, False],\n",
    "                'max_depth':[None,5,10,15,20,30,50,70],\n",
    "                'min_samples_leaf':[1,2,5,10,15,20], \n",
    "                'min_samples_split':[2,5,10,15,20]\n",
    "                  }"
   ]
  },
  {
   "cell_type": "code",
   "execution_count": 17,
   "metadata": {},
   "outputs": [],
   "source": [
    "reg=RandomForestRegressor()"
   ]
  },
  {
   "cell_type": "code",
   "execution_count": 18,
   "metadata": {},
   "outputs": [],
   "source": [
    "n_iter_search = 10\n",
    "random_search=RandomizedSearchCV(reg,\n",
    "                                 cv=10,\n",
    "                                 param_distributions=param_dist,\n",
    "                                 scoring='neg_mean_absolute_error',\n",
    "                                 n_iter=10,n_jobs=-1,verbose=20\n",
    "                                    )"
   ]
  },
  {
   "cell_type": "code",
   "execution_count": 19,
   "metadata": {},
   "outputs": [
    {
     "name": "stdout",
     "output_type": "stream",
     "text": [
      "Fitting 10 folds for each of 10 candidates, totalling 100 fits\n"
     ]
    },
    {
     "name": "stderr",
     "output_type": "stream",
     "text": [
      "[Parallel(n_jobs=-1)]: Using backend LokyBackend with 8 concurrent workers.\n",
      "[Parallel(n_jobs=-1)]: Done   1 tasks      | elapsed:    5.7s\n",
      "[Parallel(n_jobs=-1)]: Done   2 tasks      | elapsed:    5.7s\n",
      "[Parallel(n_jobs=-1)]: Done   3 tasks      | elapsed:    5.7s\n",
      "[Parallel(n_jobs=-1)]: Done   4 tasks      | elapsed:    5.8s\n",
      "[Parallel(n_jobs=-1)]: Done   5 tasks      | elapsed:    5.9s\n",
      "[Parallel(n_jobs=-1)]: Done   6 tasks      | elapsed:    5.9s\n",
      "[Parallel(n_jobs=-1)]: Done   7 tasks      | elapsed:    5.9s\n",
      "[Parallel(n_jobs=-1)]: Done   8 tasks      | elapsed:    6.0s\n",
      "[Parallel(n_jobs=-1)]: Done   9 tasks      | elapsed:    6.3s\n",
      "[Parallel(n_jobs=-1)]: Done  10 tasks      | elapsed:    6.4s\n",
      "[Parallel(n_jobs=-1)]: Done  11 tasks      | elapsed:    6.6s\n",
      "[Parallel(n_jobs=-1)]: Done  12 tasks      | elapsed:    6.7s\n",
      "[Parallel(n_jobs=-1)]: Done  13 tasks      | elapsed:    6.7s\n",
      "[Parallel(n_jobs=-1)]: Done  14 tasks      | elapsed:    6.8s\n",
      "[Parallel(n_jobs=-1)]: Done  15 tasks      | elapsed:    6.8s\n",
      "[Parallel(n_jobs=-1)]: Done  16 tasks      | elapsed:    6.8s\n",
      "[Parallel(n_jobs=-1)]: Done  17 tasks      | elapsed:    7.0s\n",
      "[Parallel(n_jobs=-1)]: Done  18 tasks      | elapsed:    7.1s\n",
      "[Parallel(n_jobs=-1)]: Done  19 tasks      | elapsed:    7.2s\n",
      "[Parallel(n_jobs=-1)]: Done  20 tasks      | elapsed:    7.3s\n",
      "[Parallel(n_jobs=-1)]: Done  21 tasks      | elapsed:    7.4s\n",
      "[Parallel(n_jobs=-1)]: Done  22 tasks      | elapsed:    7.5s\n",
      "[Parallel(n_jobs=-1)]: Done  23 tasks      | elapsed:    7.5s\n",
      "[Parallel(n_jobs=-1)]: Done  24 tasks      | elapsed:    7.5s\n",
      "[Parallel(n_jobs=-1)]: Done  25 tasks      | elapsed:    7.7s\n",
      "[Parallel(n_jobs=-1)]: Done  26 tasks      | elapsed:    7.8s\n",
      "[Parallel(n_jobs=-1)]: Done  27 tasks      | elapsed:    7.9s\n",
      "[Parallel(n_jobs=-1)]: Done  28 tasks      | elapsed:    8.1s\n",
      "[Parallel(n_jobs=-1)]: Done  29 tasks      | elapsed:    8.2s\n",
      "[Parallel(n_jobs=-1)]: Done  30 tasks      | elapsed:    8.2s\n",
      "[Parallel(n_jobs=-1)]: Done  31 tasks      | elapsed:    8.9s\n",
      "[Parallel(n_jobs=-1)]: Done  32 tasks      | elapsed:    9.1s\n",
      "[Parallel(n_jobs=-1)]: Done  33 tasks      | elapsed:    9.2s\n",
      "[Parallel(n_jobs=-1)]: Done  34 tasks      | elapsed:    9.3s\n",
      "[Parallel(n_jobs=-1)]: Done  35 tasks      | elapsed:    9.5s\n",
      "[Parallel(n_jobs=-1)]: Done  36 tasks      | elapsed:    9.7s\n",
      "[Parallel(n_jobs=-1)]: Done  37 tasks      | elapsed:    9.9s\n",
      "[Parallel(n_jobs=-1)]: Done  38 tasks      | elapsed:    9.9s\n",
      "[Parallel(n_jobs=-1)]: Done  39 tasks      | elapsed:   10.4s\n",
      "[Parallel(n_jobs=-1)]: Done  40 tasks      | elapsed:   10.5s\n",
      "[Parallel(n_jobs=-1)]: Done  41 tasks      | elapsed:   10.7s\n",
      "[Parallel(n_jobs=-1)]: Done  42 tasks      | elapsed:   10.7s\n",
      "[Parallel(n_jobs=-1)]: Done  43 tasks      | elapsed:   10.7s\n",
      "[Parallel(n_jobs=-1)]: Done  44 tasks      | elapsed:   10.9s\n",
      "[Parallel(n_jobs=-1)]: Done  45 tasks      | elapsed:   11.1s\n",
      "[Parallel(n_jobs=-1)]: Done  46 tasks      | elapsed:   11.1s\n",
      "[Parallel(n_jobs=-1)]: Done  47 tasks      | elapsed:   11.6s\n",
      "[Parallel(n_jobs=-1)]: Done  48 tasks      | elapsed:   11.7s\n",
      "[Parallel(n_jobs=-1)]: Done  49 tasks      | elapsed:   11.8s\n",
      "[Parallel(n_jobs=-1)]: Done  50 tasks      | elapsed:   11.9s\n",
      "[Parallel(n_jobs=-1)]: Done  51 tasks      | elapsed:   11.9s\n",
      "[Parallel(n_jobs=-1)]: Done  52 tasks      | elapsed:   11.9s\n",
      "[Parallel(n_jobs=-1)]: Done  53 tasks      | elapsed:   12.1s\n",
      "[Parallel(n_jobs=-1)]: Done  54 tasks      | elapsed:   12.2s\n",
      "[Parallel(n_jobs=-1)]: Done  55 tasks      | elapsed:   12.7s\n",
      "[Parallel(n_jobs=-1)]: Done  56 tasks      | elapsed:   12.7s\n",
      "[Parallel(n_jobs=-1)]: Done  57 tasks      | elapsed:   12.8s\n",
      "[Parallel(n_jobs=-1)]: Done  58 tasks      | elapsed:   12.9s\n",
      "[Parallel(n_jobs=-1)]: Done  59 tasks      | elapsed:   12.9s\n",
      "[Parallel(n_jobs=-1)]: Done  60 tasks      | elapsed:   12.9s\n",
      "[Parallel(n_jobs=-1)]: Done  61 tasks      | elapsed:   12.9s\n",
      "[Parallel(n_jobs=-1)]: Done  62 tasks      | elapsed:   13.0s\n",
      "[Parallel(n_jobs=-1)]: Done  63 tasks      | elapsed:   13.4s\n",
      "[Parallel(n_jobs=-1)]: Done  64 tasks      | elapsed:   13.5s\n",
      "[Parallel(n_jobs=-1)]: Done  65 tasks      | elapsed:   13.5s\n",
      "[Parallel(n_jobs=-1)]: Done  66 tasks      | elapsed:   13.5s\n",
      "[Parallel(n_jobs=-1)]: Done  67 tasks      | elapsed:   13.6s\n",
      "[Parallel(n_jobs=-1)]: Done  68 tasks      | elapsed:   13.6s\n",
      "[Parallel(n_jobs=-1)]: Done  69 tasks      | elapsed:   13.7s\n",
      "[Parallel(n_jobs=-1)]: Done  70 tasks      | elapsed:   13.7s\n",
      "[Parallel(n_jobs=-1)]: Done  71 tasks      | elapsed:   13.9s\n",
      "[Parallel(n_jobs=-1)]: Done  72 tasks      | elapsed:   13.9s\n",
      "[Parallel(n_jobs=-1)]: Done  73 tasks      | elapsed:   13.9s\n",
      "[Parallel(n_jobs=-1)]: Done  74 tasks      | elapsed:   14.0s\n",
      "[Parallel(n_jobs=-1)]: Done  75 tasks      | elapsed:   14.0s\n",
      "[Parallel(n_jobs=-1)]: Done  76 tasks      | elapsed:   14.0s\n",
      "[Parallel(n_jobs=-1)]: Done  77 tasks      | elapsed:   14.1s\n",
      "[Parallel(n_jobs=-1)]: Done  78 tasks      | elapsed:   14.1s\n",
      "[Parallel(n_jobs=-1)]: Done  79 tasks      | elapsed:   14.4s\n",
      "[Parallel(n_jobs=-1)]: Done  80 tasks      | elapsed:   14.4s\n",
      "[Parallel(n_jobs=-1)]: Done  81 tasks      | elapsed:   17.4s\n",
      "[Parallel(n_jobs=-1)]: Done  82 tasks      | elapsed:   17.4s\n",
      "[Parallel(n_jobs=-1)]: Done  83 tasks      | elapsed:   17.6s\n",
      "[Parallel(n_jobs=-1)]: Done  84 tasks      | elapsed:   17.6s\n",
      "[Parallel(n_jobs=-1)]: Done  85 tasks      | elapsed:   17.8s\n",
      "[Parallel(n_jobs=-1)]: Done  91 out of 100 | elapsed:   19.3s remaining:    1.8s\n",
      "[Parallel(n_jobs=-1)]: Done  97 out of 100 | elapsed:   20.5s remaining:    0.5s\n",
      "[Parallel(n_jobs=-1)]: Done 100 out of 100 | elapsed:   21.5s finished\n"
     ]
    },
    {
     "data": {
      "text/plain": [
       "RandomizedSearchCV(cv=10, error_score='raise-deprecating',\n",
       "                   estimator=RandomForestRegressor(bootstrap=True,\n",
       "                                                   criterion='mse',\n",
       "                                                   max_depth=None,\n",
       "                                                   max_features='auto',\n",
       "                                                   max_leaf_nodes=None,\n",
       "                                                   min_impurity_decrease=0.0,\n",
       "                                                   min_impurity_split=None,\n",
       "                                                   min_samples_leaf=1,\n",
       "                                                   min_samples_split=2,\n",
       "                                                   min_weight_fraction_leaf=0.0,\n",
       "                                                   n_estimators='warn',\n",
       "                                                   n_jobs=None, oob_score=False,\n",
       "                                                   random_st...\n",
       "                   iid='warn', n_iter=10, n_jobs=-1,\n",
       "                   param_distributions={'bootstrap': [True, False],\n",
       "                                        'max_depth': [None, 5, 10, 15, 20, 30,\n",
       "                                                      50, 70],\n",
       "                                        'max_features': [2, 4, 5, 6, 8],\n",
       "                                        'min_samples_leaf': [1, 2, 5, 10, 15,\n",
       "                                                             20],\n",
       "                                        'min_samples_split': [2, 5, 10, 15, 20],\n",
       "                                        'n_estimators': [50, 100, 200]},\n",
       "                   pre_dispatch='2*n_jobs', random_state=None, refit=True,\n",
       "                   return_train_score=False, scoring='neg_mean_absolute_error',\n",
       "                   verbose=20)"
      ]
     },
     "execution_count": 19,
     "metadata": {},
     "output_type": "execute_result"
    }
   ],
   "source": [
    "random_search.fit(x_train,y_train)"
   ]
  },
  {
   "cell_type": "code",
   "execution_count": 20,
   "metadata": {},
   "outputs": [
    {
     "name": "stdout",
     "output_type": "stream",
     "text": [
      "Model with rank: 1\n",
      "Mean validation score: -797.72811 (std: 20.73870)\n",
      "Parameters: {'n_estimators': 50, 'min_samples_split': 20, 'min_samples_leaf': 5, 'max_features': 5, 'max_depth': 30, 'bootstrap': False}\n",
      "\n",
      "Model with rank: 2\n",
      "Mean validation score: -802.01069 (std: 21.42458)\n",
      "Parameters: {'n_estimators': 50, 'min_samples_split': 10, 'min_samples_leaf': 2, 'max_features': 4, 'max_depth': 50, 'bootstrap': False}\n",
      "\n",
      "Model with rank: 3\n",
      "Mean validation score: -821.17317 (std: 24.94259)\n",
      "Parameters: {'n_estimators': 100, 'min_samples_split': 10, 'min_samples_leaf': 10, 'max_features': 5, 'max_depth': 15, 'bootstrap': True}\n",
      "\n",
      "Model with rank: 4\n",
      "Mean validation score: -828.78737 (std: 21.93841)\n",
      "Parameters: {'n_estimators': 200, 'min_samples_split': 10, 'min_samples_leaf': 2, 'max_features': 2, 'max_depth': 70, 'bootstrap': False}\n",
      "\n",
      "Model with rank: 5\n",
      "Mean validation score: -865.86070 (std: 33.94565)\n",
      "Parameters: {'n_estimators': 50, 'min_samples_split': 2, 'min_samples_leaf': 15, 'max_features': 4, 'max_depth': 10, 'bootstrap': False}\n",
      "\n"
     ]
    }
   ],
   "source": [
    "report(random_search.cv_results_,5)"
   ]
  },
  {
   "cell_type": "markdown",
   "metadata": {},
   "source": [
    "# Predictions"
   ]
  },
  {
   "cell_type": "code",
   "execution_count": 21,
   "metadata": {},
   "outputs": [],
   "source": [
    "Predictions=pd.DataFrame({target:random_search.predict(bd_test)})"
   ]
  }
 ],
 "metadata": {
  "kernelspec": {
   "display_name": "Python 3",
   "language": "python",
   "name": "python3"
  },
  "language_info": {
   "codemirror_mode": {
    "name": "ipython",
    "version": 3
   },
   "file_extension": ".py",
   "mimetype": "text/x-python",
   "name": "python",
   "nbconvert_exporter": "python",
   "pygments_lexer": "ipython3",
   "version": "3.7.4"
  }
 },
 "nbformat": 4,
 "nbformat_minor": 2
}
